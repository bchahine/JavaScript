{
  "nbformat": 4,
  "nbformat_minor": 0,
  "metadata": {
    "colab": {
      "name": "6.1_data-visualization_exercise.ipynb",
      "version": "0.3.2",
      "provenance": [],
      "collapsed_sections": [],
      "include_colab_link": true
    },
    "kernelspec": {
      "name": "python3",
      "display_name": "Python 3"
    }
  },
  "cells": [
    {
      "cell_type": "markdown",
      "metadata": {
        "id": "view-in-github",
        "colab_type": "text"
      },
      "source": [
        "<a href=\"https://colab.research.google.com/github/bchahine/JavaScript/blob/master/6_1_data_visualization_exercise.ipynb\" target=\"_parent\"><img src=\"https://colab.research.google.com/assets/colab-badge.svg\" alt=\"Open In Colab\"/></a>"
      ]
    },
    {
      "metadata": {
        "id": "DImkhpU42aHq",
        "colab_type": "text"
      },
      "cell_type": "markdown",
      "source": [
        "## Import `pyplot` from `matplotlib` as `plt`."
      ]
    },
    {
      "metadata": {
        "id": "xwsZkxhi2aHw",
        "colab_type": "code",
        "colab": {}
      },
      "cell_type": "code",
      "source": [
        "import matplotlib.pyplot as plt"
      ],
      "execution_count": 0,
      "outputs": []
    },
    {
      "metadata": {
        "id": "f6mpXZkL2aIE",
        "colab_type": "text"
      },
      "cell_type": "markdown",
      "source": [
        "## Add `matplotlib` magic for inline plots.\n",
        "\n",
        "\n",
        "\n"
      ]
    },
    {
      "metadata": {
        "id": "urkVvJAh2aIH",
        "colab_type": "code",
        "colab": {}
      },
      "cell_type": "code",
      "source": [
        "%matplotlib inline"
      ],
      "execution_count": 0,
      "outputs": []
    },
    {
      "metadata": {
        "id": "2YxANGGn2aIN",
        "colab_type": "text"
      },
      "cell_type": "markdown",
      "source": [
        "## Create an empty plot using `.plot()` method from the `matplotlib.pyplot module`."
      ]
    },
    {
      "metadata": {
        "id": "yKhsK1a92aIP",
        "colab_type": "code",
        "outputId": "da143af1-8173-439e-8bcc-0775b8f78fc6",
        "colab": {
          "base_uri": "https://localhost:8080/",
          "height": 282
        }
      },
      "cell_type": "code",
      "source": [
        "plt.plot()"
      ],
      "execution_count": 3,
      "outputs": [
        {
          "output_type": "execute_result",
          "data": {
            "text/plain": [
              "[]"
            ]
          },
          "metadata": {
            "tags": []
          },
          "execution_count": 3
        },
        {
          "output_type": "display_data",
          "data": {
            "image/png": "[encoded data removed]",
            "text/plain": [
              "<Figure size 432x288 with 1 Axes>"
            ]
          },
          "metadata": {
            "tags": []
          }
        }
      ]
    },
    {
      "metadata": {
        "id": "6aCcA1Xb2aIS",
        "colab_type": "text"
      },
      "cell_type": "markdown",
      "source": [
        "## Create a simple line with the points [1,1] and [2,2] using `plt.plot()`."
      ]
    },
    {
      "metadata": {
        "id": "nzUGzDiD2aIT",
        "colab_type": "code",
        "outputId": "01337550-30cc-476b-c834-cf30fe034279",
        "colab": {
          "base_uri": "https://localhost:8080/",
          "height": 282
        }
      },
      "cell_type": "code",
      "source": [
        "plt.plot([1,2],[1,2])"
      ],
      "execution_count": 4,
      "outputs": [
        {
          "output_type": "execute_result",
          "data": {
            "text/plain": [
              "[<matplotlib.lines.Line2D at 0x7fa10f536b70>]"
            ]
          },
          "metadata": {
            "tags": []
          },
          "execution_count": 4
        },
        {
          "output_type": "display_data",
          "data": {
            "image/png": "[encoded data removed]",
            "text/plain": [
              "<Figure size 432x288 with 1 Axes>"
            ]
          },
          "metadata": {
            "tags": []
          }
        }
      ]
    },
    {
      "metadata": {
        "id": "1nvs-FVE2aIW",
        "colab_type": "text"
      },
      "cell_type": "markdown",
      "source": [
        "## Now make it a scatterplot with the same points, [1,1] and [2,2], but use `plt.scatter()` instead."
      ]
    },
    {
      "metadata": {
        "id": "P9ErO9ub2aIX",
        "colab_type": "code",
        "colab": {
          "base_uri": "https://localhost:8080/",
          "height": 282
        },
        "outputId": "dda6c69e-d0bf-4d6c-da49-12c428ead0dc"
      },
      "cell_type": "code",
      "source": [
        " plt.scatter([1,2],[1,2])"
      ],
      "execution_count": 6,
      "outputs": [
        {
          "output_type": "execute_result",
          "data": {
            "text/plain": [
              "<matplotlib.collections.PathCollection at 0x7fa10f43b400>"
            ]
          },
          "metadata": {
            "tags": []
          },
          "execution_count": 6
        },
        {
          "output_type": "display_data",
          "data": {
            "image/png": "[encoded data removed]",
            "text/plain": [
              "<Figure size 432x288 with 1 Axes>"
            ]
          },
          "metadata": {
            "tags": []
          }
        }
      ]
    },
    {
      "metadata": {
        "collapsed": true,
        "id": "Baljlzit2aIZ",
        "colab_type": "text"
      },
      "cell_type": "markdown",
      "source": [
        "## Add a `ylabel` to it called `\"some numbers\"`."
      ]
    },
    {
      "metadata": {
        "id": "fFqkbh4l2aIa",
        "colab_type": "code",
        "colab": {
          "base_uri": "https://localhost:8080/",
          "height": 368
        },
        "outputId": "cdb71b18-f5b2-4269-c0da-3c6a2d3599ce"
      },
      "cell_type": "code",
      "source": [
        "plt.ylabel(\"Gold\")"
      ],
      "execution_count": 15,
      "outputs": [
        {
          "output_type": "execute_result",
          "data": {
            "text/plain": [
              "Text(0, 0.5, 'Gold')"
            ]
          },
          "metadata": {
            "tags": []
          },
          "execution_count": 15
        },
        {
          "output_type": "display_data",
          "data": {
            "image/png": "[encoded data removed]",
            "text/plain": [
              "<Figure size 576x396 with 1 Axes>"
            ]
          },
          "metadata": {
            "tags": []
          }
        }
      ]
    },
    {
      "metadata": {
        "id": "vML3YKde2aId",
        "colab_type": "text"
      },
      "cell_type": "markdown",
      "source": [
        "## Import `seaborn` as `sns`\n",
        "\n",
        "If this fails, open up a terminal, type `conda install seaborn`, and restart the Jupyter Notebook server."
      ]
    },
    {
      "metadata": {
        "id": "nptAz_uO2aIe",
        "colab_type": "code",
        "colab": {}
      },
      "cell_type": "code",
      "source": [
        "import seaborn as sns"
      ],
      "execution_count": 0,
      "outputs": []
    },
    {
      "metadata": {
        "id": "L5iIobty2aIh",
        "colab_type": "text"
      },
      "cell_type": "markdown",
      "source": [
        "## Set `seaborn` to \"on\" to style your plots"
      ]
    },
    {
      "metadata": {
        "id": "PzFofM0Y2aIj",
        "colab_type": "text"
      },
      "cell_type": "markdown",
      "source": [
        "Use the command `sns.set()`."
      ]
    },
    {
      "metadata": {
        "id": "4ZvKjhng2aIk",
        "colab_type": "code",
        "colab": {}
      },
      "cell_type": "code",
      "source": [
        "sns.set(style=\"whitegrid\")"
      ],
      "execution_count": 0,
      "outputs": []
    },
    {
      "metadata": {
        "id": "BEEnGXDP2aIn",
        "colab_type": "text"
      },
      "cell_type": "markdown",
      "source": [
        "## Create an empty plot using `plt.plot()`."
      ]
    },
    {
      "metadata": {
        "id": "bd1FyAtf2aIo",
        "colab_type": "code",
        "colab": {
          "base_uri": "https://localhost:8080/",
          "height": 364
        },
        "outputId": "db628fc8-b47d-4242-e7eb-f96d028c8d72"
      },
      "cell_type": "code",
      "source": [
        "plt.plot()"
      ],
      "execution_count": 31,
      "outputs": [
        {
          "output_type": "execute_result",
          "data": {
            "text/plain": [
              "[]"
            ]
          },
          "metadata": {
            "tags": []
          },
          "execution_count": 31
        },
        {
          "output_type": "display_data",
          "data": {
            "image/png": "[encoded data removed]",
            "text/plain": [
              "<Figure size 576x396 with 1 Axes>"
            ]
          },
          "metadata": {
            "tags": []
          }
        }
      ]
    },
    {
      "metadata": {
        "id": "Gc6WVADp2aIs",
        "colab_type": "text"
      },
      "cell_type": "markdown",
      "source": [
        "## Create a simple line with the points [1,1] and [2,2] using `plt.plot()`."
      ]
    },
    {
      "metadata": {
        "id": "onC-lWa42aIt",
        "colab_type": "code",
        "colab": {
          "base_uri": "https://localhost:8080/",
          "height": 164
        },
        "outputId": "2b3cc8b4-cbc1-4d35-9497-3dec52c5565e"
      },
      "cell_type": "code",
      "source": [
        "sns.plot([1,1],[2,2])"
      ],
      "execution_count": 33,
      "outputs": [
        {
          "output_type": "error",
          "ename": "AttributeError",
          "evalue": "ignored",
          "traceback": [
            "\u001b[0;31m---------------------------------------------------------------------------\u001b[0m",
            "\u001b[0;31mAttributeError\u001b[0m                            Traceback (most recent call last)",
            "\u001b[0;32m<ipython-input-33-ab5c1ef715ff>\u001b[0m in \u001b[0;36m<module>\u001b[0;34m()\u001b[0m\n\u001b[0;32m----> 1\u001b[0;31m \u001b[0msns\u001b[0m\u001b[0;34m.\u001b[0m\u001b[0mplot\u001b[0m\u001b[0;34m(\u001b[0m\u001b[0;34m[\u001b[0m\u001b[0;36m1\u001b[0m\u001b[0;34m,\u001b[0m\u001b[0;36m1\u001b[0m\u001b[0;34m]\u001b[0m\u001b[0;34m,\u001b[0m\u001b[0;34m[\u001b[0m\u001b[0;36m2\u001b[0m\u001b[0;34m,\u001b[0m\u001b[0;36m2\u001b[0m\u001b[0;34m]\u001b[0m\u001b[0;34m)\u001b[0m\u001b[0;34m\u001b[0m\u001b[0;34m\u001b[0m\u001b[0m\n\u001b[0m",
            "\u001b[0;31mAttributeError\u001b[0m: module 'seaborn' has no attribute 'plot'"
          ]
        }
      ]
    },
    {
      "metadata": {
        "id": "6mTTVIxf2aIw",
        "colab_type": "text"
      },
      "cell_type": "markdown",
      "source": [
        "## Now make it a scatterplot with the same points, [1,1] and [2,2], but use `plt.scatter()` instead.\n",
        "Add a `ylabel` to it called `\"some numbers\"`."
      ]
    },
    {
      "metadata": {
        "id": "rBj36fiN2aIw",
        "colab_type": "code",
        "colab": {
          "base_uri": "https://localhost:8080/",
          "height": 364
        },
        "outputId": "7ea3f43f-09ff-440f-d04e-a93df28c72c4"
      },
      "cell_type": "code",
      "source": [
        "plt.scatter([1,1],[2,2])"
      ],
      "execution_count": 29,
      "outputs": [
        {
          "output_type": "execute_result",
          "data": {
            "text/plain": [
              "<matplotlib.collections.PathCollection at 0x7fa10f1bd908>"
            ]
          },
          "metadata": {
            "tags": []
          },
          "execution_count": 29
        },
        {
          "output_type": "display_data",
          "data": {
            "image/png": "[encoded data removed]",
            "text/plain": [
              "<Figure size 576x396 with 1 Axes>"
            ]
          },
          "metadata": {
            "tags": []
          }
        }
      ]
    }
  ]
}